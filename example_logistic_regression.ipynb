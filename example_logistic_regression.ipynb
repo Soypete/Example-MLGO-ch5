{
 "cells": [
  {
   "cell_type": "markdown",
   "metadata": {},
   "source": [
    "This is the *logistic function* that we are implementin below.\n",
    "\n",
    "$$f(x)=\\frac{1}{1+e^{-x}}$$"
   ]
  },
  {
   "cell_type": "code",
   "execution_count": 1,
   "metadata": {},
   "outputs": [],
   "source": [
    "import \"math\"\n",
    "func logistic(x float64) float64{\n",
    "    return 1/(1+math.Exp(-x))\n",
    "}"
   ]
  },
  {
   "cell_type": "markdown",
   "metadata": {},
   "source": [
    "create plot and plot the logistic function. "
   ]
  },
  {
   "cell_type": "code",
   "execution_count": 2,
   "metadata": {},
   "outputs": [
    {
     "ename": "ERROR",
     "evalue": "repl.go:7:8: error loading package \"golang.org/x/text/language/display\" metadata, maybe you need to download (go get), compile (go build) and install (go install) it? can't find import: \"golang.org/x/text/language/display\"",
     "output_type": "error",
     "traceback": [
      "repl.go:7:8: error loading package \"golang.org/x/text/language/display\" metadata, maybe you need to download (go get), compile (go build) and install (go install) it? can't find import: \"golang.org/x/text/language/display\""
     ]
    }
   ],
   "source": [
    "import \"gonum.org/v1/plot\"\n",
    "import \"gonum.org/v1/plot/plotter\"\n",
    "import \"gonum.org/v1/plot/vg\"\n",
    "import \"log\"\n",
    "import \"image/color\"\n",
    "import \"bufio\"\n",
    "import \"golang.org/x/text/language/display\"\n",
    "\n",
    "p, err := plot.New()\n",
    "if err != nil {\n",
    "    log.Fatal(err)\n",
    "    }\n",
    "p.X.Label.Text = \"x\"\n",
    "p.Y.Label.Text = \"f(x)\"\n",
    "\n",
    "logisticPlotter := plotter.NewFunction(func(x float64) float64 { return logistic(x) })\n",
    "logisticPlotter.Color = color.RGBA{B: 255, A: 255}\n",
    "\n",
    "p.Add(logisticPlotter)\n",
    "\n",
    "//set axis ranges\n",
    "p.X.Min = -10\n",
    "p.X.Max = 10\n",
    "p.Y.Min = -0.1\n",
    "p.Y.Max = 1.1\n",
    "\n",
    "// Save the plot to a PNG file.\n",
    "   if err := p.Save(4*vg.Inch, 4*vg.Inch, \"plots/logistic.png\"); err != nil {\n",
    "       log.Fatal(err)\n",
    "   }\n",
    "\n",
    "    if w, err := p.WriterTo(8*vg.Inch, 8*vg.Inch, \"png\");err != nil{\n",
    "        log.Fatal(err)\n",
    "   }\n",
    "   var b bytes.Buffer\n",
    "   writer := bufio.NewWriter(&b)\n",
    "   w.WriteTo(writer)\n",
    "   Display(display.PNG(b.Bytes()))"
   ]
  },
  {
   "cell_type": "markdown",
   "metadata": {},
   "source": [
    "This is an example of cleaning and profiling data that we will use in anothe linear regression model."
   ]
  },
  {
   "cell_type": "code",
   "execution_count": 3,
   "metadata": {},
   "outputs": [
    {
     "ename": "ERROR",
     "evalue": "repl.go:25:26: undefined identifier: rawCSVData",
     "output_type": "error",
     "traceback": [
      "repl.go:25:26: undefined identifier: rawCSVData"
     ]
    }
   ],
   "source": [
    "import \"os\"\n",
    "import \"encoding/csv\"\n",
    "loanData := \"Machine-Learning-With-Go/Chapter05/logistic_regression/example3/loan_data.csv\"\n",
    "\n",
    "f, err := os.Open(loanData)\n",
    "if err != nil {\n",
    "    log.Fatal(err)\n",
    "}\n",
    "// normally use defer, but defer doesn't work in notebooks so we must manually close\n",
    "reader := csv.NewReader(f)\n",
    "reader.FieldsPerRecord = 2\n",
    "\n",
    "rawCSVDATA, err := reader.ReadAll()\n",
    "if err != nil {\n",
    "    log.Fatal(err)\n",
    "}\n",
    "\n",
    "fo, err := os.Create(\"data/clean_loan_data.csv\")\n",
    "if err != nil {\n",
    "    log.Fatal(err)\n",
    "}\n",
    "\n",
    "w := csv.NewWriter(fo)\n",
    "\n",
    "for idx, record := range rawCSVData {\n",
    "    // Skip header\n",
    "    if idx == 0{\n",
    "        if err := w.Write(record); err != nil{\n",
    "            log.Fatal(err)\n",
    "        }\n",
    "        continue\n",
    "    }\n",
    "    outRecord := make([]string, 2)\n",
    "    score, err := strconv.ParseFloat(strings.Split(record[0],\"-\")[0], 64)\n",
    "    if err != nil {\n",
    "        log.Fatal(err)\n",
    "    }\n",
    "    if rate <= 12.0 {\n",
    "        outRecord[1] = \"1.0\"    \n",
    "        if err := w.Write(outRecord); err != nil{\n",
    "            log.Fatal(err)\n",
    "        }\n",
    "        continue\n",
    "    }\n",
    "    outRecord[1] = \"0.0\"\n",
    "    if err := w.Write(outRecord); err != nil{\n",
    "            log.Fatal(err)\n",
    "        }\n",
    "    w.Flush()\n",
    "    if err := w.Error; err != nil{\n",
    "            log.Fatal(err)\n",
    "        }\n",
    "}\n",
    "fo.Close()\n",
    "f.Close()"
   ]
  },
  {
   "cell_type": "markdown",
   "metadata": {},
   "source": [
    "Create a Histogram to understand the Data"
   ]
  },
  {
   "cell_type": "code",
   "execution_count": null,
   "metadata": {},
   "outputs": [],
   "source": [
    "import \"github.com/kniren/gota/dataframe\"\n",
    "\n",
    "loanDataFile, err := os.Open(\"data/clean_loan_data.csv\")\n",
    "if err != nil {\n",
    "    log.Fatal(err)\n",
    "}\n",
    "\n",
    "loandDF := dataframe.ReadCSV(loanDataFile)\n",
    "\n",
    "loanSummary := loanDf.Describe()\n",
    "\n",
    "fmt.Println(loanSummary)\n",
    "\n",
    "for _, colName := range loanDF.Names(){\n",
    "    plotVales := make(plotter.Values loanDF.Nrow())\n",
    "    for i, floatVal := range loanDF.Col(colName).Float(){\n",
    "        plotVals[i] = floatVal\n",
    "    }\n",
    "    p, err := plot.New()\n",
    "    if err != nil {\n",
    "        log.Fatal(err)\n",
    "    }\n",
    "    p.Title.Text - fmt.Sprintf(\"Histogram of a %s\", colName)\n",
    "    h, err := plotter.NewHist(plotVals, 16)\n",
    "    if err != nil {\n",
    "        log.Fatal(err)\n",
    "    }\n",
    "    h.Normalize(1)\n",
    "    \n",
    "    p.Add(h)\n",
    "    if err := p.Save(4*vg.Inch, 4*vg.Inch, \"data/\"+colName+\"_hist.png\"); err != nil{\n",
    "        log.Fatal(err)\n",
    "    }\n",
    "}\n",
    "\n",
    "loanDataFile.Close()"
   ]
  }
 ],
 "metadata": {
  "kernelspec": {
   "display_name": "Go",
   "language": "go",
   "name": "gophernotes"
  },
  "language_info": {
   "codemirror_mode": "",
   "file_extension": ".go",
   "mimetype": "",
   "name": "go",
   "nbconvert_exporter": "",
   "pygments_lexer": "",
   "version": "go1.11.1"
  }
 },
 "nbformat": 4,
 "nbformat_minor": 2
}
