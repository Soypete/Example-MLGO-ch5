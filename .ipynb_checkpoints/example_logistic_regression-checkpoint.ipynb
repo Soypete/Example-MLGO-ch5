{
 "cells": [
  {
   "cell_type": "markdown",
   "metadata": {},
   "source": [
    "This is the *logistic function* that we are implementin below.\n",
    "\n",
    "$$f(x)=\\frac{1}{1+e^{-x}}$$"
   ]
  },
  {
   "cell_type": "code",
   "execution_count": 3,
   "metadata": {},
   "outputs": [],
   "source": [
    "import \"math\"\n",
    "func logistic(x float64) float64{\n",
    "    return 1/(1+math.Exp(-x))\n",
    "}"
   ]
  },
  {
   "cell_type": "markdown",
   "metadata": {},
   "source": [
    "create plot and plot the logistic function. "
   ]
  },
  {
   "cell_type": "code",
   "execution_count": 4,
   "metadata": {},
   "outputs": [
    {
     "ename": "ERROR",
     "evalue": "repl.go:1:8: error loading plugin \"/Users/mpeterson/code/go/src/gomacro_imports/gonum.org/v1/plot/plot.so\": plugin.Open(\"/Users/mpeterson/code/go/src/gomacro_imports/gonum.org/v1/plot/plot\"): plugin was built with a different version of package internal/cpu",
     "output_type": "error",
     "traceback": [
      "repl.go:1:8: error loading plugin \"/Users/mpeterson/code/go/src/gomacro_imports/gonum.org/v1/plot/plot.so\": plugin.Open(\"/Users/mpeterson/code/go/src/gomacro_imports/gonum.org/v1/plot/plot\"): plugin was built with a different version of package internal/cpu"
     ]
    }
   ],
   "source": [
    "import \"gonum.org/v1/plot\"\n",
    "\n",
    "p, err := plot.New()\n",
    "if err != nil {\n",
    "    log.Fatal(err)\n",
    "    }\n",
    "p.X.Label.Text = \"x\"\n",
    "p.Y.Label.Text = \"f(x)\"\n",
    "\n",
    "logisticPlotter := plotter.NewFunction(func(x float64) float64 { return logistic(x) })\n",
    "logisticPlotter.Color = color.RGBA{B: 255, A: 255}\n",
    "\n",
    "p.Add(logisticPlotter)\n",
    "\n",
    "//set axis ranges\n",
    "p.X.Min = -10\n",
    "p.X.Max = 10\n",
    "p.Y.Min = -0.1\n",
    "p.Y.Max = 1.1\n",
    "\n",
    "p.Show()"
   ]
  },
  {
   "cell_type": "code",
   "execution_count": null,
   "metadata": {},
   "outputs": [],
   "source": []
  }
 ],
 "metadata": {
  "kernelspec": {
   "display_name": "Go",
   "language": "go",
   "name": "gophernotes"
  },
  "language_info": {
   "codemirror_mode": "",
   "file_extension": ".go",
   "mimetype": "",
   "name": "go",
   "nbconvert_exporter": "",
   "pygments_lexer": "",
   "version": "go1.10.2"
  }
 },
 "nbformat": 4,
 "nbformat_minor": 2
}
